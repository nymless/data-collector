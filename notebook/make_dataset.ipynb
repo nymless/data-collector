{
 "cells": [
  {
   "cell_type": "code",
   "execution_count": 13,
   "metadata": {},
   "outputs": [],
   "source": [
    "import json\n",
    "import sys\n",
    "import pandas as pd\n",
    "from pprint import pp\n",
    "from pathlib import Path\n",
    "from datetime import datetime"
   ]
  },
  {
   "cell_type": "code",
   "execution_count": null,
   "metadata": {},
   "outputs": [
    {
     "name": "stdout",
     "output_type": "stream",
     "text": [
      "utf-8\n",
      "31535\n",
      "{'inner_type': 'wall_wallpost',\n",
      " 'donut': {'is_donut': False},\n",
      " 'comments': {'can_post': 1,\n",
      "              'can_view': 1,\n",
      "              'count': 0,\n",
      "              'groups_can_post': True},\n",
      " 'marked_as_ads': 0,\n",
      " 'hash': 'R6CjG6NLa6FUL1Sh8Q',\n",
      " 'type': 'post',\n",
      " 'attachments': [],\n",
      " 'date': 1646649399,\n",
      " 'from_id': 708011939,\n",
      " 'id': 38597,\n",
      " 'likes': {'can_like': 1,\n",
      "           'count': 34,\n",
      "           'user_likes': 0,\n",
      "           'can_publish': 0,\n",
      "           'repost_disabled': False},\n",
      " 'reaction_set_id': 'reactions',\n",
      " 'reactions': {'count': 34, 'items': [{'id': 0, 'count': 34}]},\n",
      " 'owner_id': -51059456,\n",
      " 'post_source': {'type': 'vk'},\n",
      " 'post_type': 'post',\n",
      " 'reposts': {'count': 17, 'user_reposted': 0},\n",
      " 'text': 'Всем снова здравствуйте! Ищем единомышленников в реальную беседу '\n",
      "         'общения. Кто нам подойдет? 1. Депрессивные и суицидально настроенные '\n",
      "         'люди, которые хотят изменить свою жизнь, и побороть свою депрессию. '\n",
      "         '2. Отшельники, изгои, и просто странные люди, желающие \"сбежать от '\n",
      "         'системы\". 3. Всякие авантюристы и приключенцы, ищущие драйва и '\n",
      "         'нового опыта. 4. Ну и конечно-же просто хорошие люди))) Пишите в '\n",
      "         'личку, я все объясню более подробно, есть несколько вариантов '\n",
      "         'дальнейшей активности собранной группы, все в рамках закона и '\n",
      "         'человеческого достоинства. Не унывайте..., дорогу осилит идущий 😉'}\n"
     ]
    }
   ],
   "source": [
    "data_file = Path(\"../data/raw/depression/posts/posts.json\")\n",
    "encoding = sys.getdefaultencoding()\n",
    "print(encoding)\n",
    "with open(data_file, \"r\", encoding=encoding) as f:\n",
    "    posts = json.load(f)\n",
    "print(len(posts))\n",
    "pp(posts[7])"
   ]
  },
  {
   "cell_type": "code",
   "execution_count": 43,
   "metadata": {},
   "outputs": [
    {
     "name": "stdout",
     "output_type": "stream",
     "text": [
      "31535\n",
      "{'inner_type': 'wall_wallpost',\n",
      " 'comments_count': 0,\n",
      " 'marked_as_ads': 0,\n",
      " 'type': 'post',\n",
      " 'date': '2022-03-07T15:36:39',\n",
      " 'from_id': 708011939,\n",
      " 'id': 38597,\n",
      " 'likes_count': 34,\n",
      " 'reaction_set_id': 'reactions',\n",
      " 'reactions_count': 34,\n",
      " 'owner_id': -51059456,\n",
      " 'post_source_type': 'vk',\n",
      " 'post_type': 'post',\n",
      " 'reposts_count': 17,\n",
      " 'text': 'Всем снова здравствуйте! Ищем единомышленников в реальную беседу '\n",
      "         'общения. Кто нам подойдет? 1. Депрессивные и суицидально настроенные '\n",
      "         'люди, которые хотят изменить свою жизнь, и побороть свою депрессию. '\n",
      "         '2. Отшельники, изгои, и просто странные люди, желающие \"сбежать от '\n",
      "         'системы\". 3. Всякие авантюристы и приключенцы, ищущие драйва и '\n",
      "         'нового опыта. 4. Ну и конечно-же просто хорошие люди))) Пишите в '\n",
      "         'личку, я все объясню более подробно, есть несколько вариантов '\n",
      "         'дальнейшей активности собранной группы, все в рамках закона и '\n",
      "         'человеческого достоинства. Не унывайте..., дорогу осилит идущий 😉'}\n"
     ]
    }
   ],
   "source": [
    "data = []\n",
    "\n",
    "for post in posts:\n",
    "    data.append({\n",
    "        \"inner_type\": post[\"inner_type\"],\n",
    "        \"comments_count\": post.get(\"comments\", {}).get(\"count\", 0),\n",
    "        \"marked_as_ads\": post[\"marked_as_ads\"],\n",
    "        \"type\": post[\"type\"],\n",
    "        \"date\": datetime.fromtimestamp(post[\"date\"]).isoformat(),\n",
    "        \"from_id\": post[\"from_id\"],\n",
    "        \"id\": post[\"id\"],\n",
    "        \"likes_count\": post.get(\"likes\", {}).get(\"count\", 0),\n",
    "        \"reaction_set_id\": post[\"reaction_set_id\"],\n",
    "        \"reactions_count\": post.get(\"reactions\", {}).get(\"count\", 0),\n",
    "        \"owner_id\": post[\"owner_id\"],\n",
    "        \"post_source_type\": post.get(\"post_source\", {}).get(\"type\", \"\"),\n",
    "        \"post_type\": post[\"post_type\"],\n",
    "        \"reposts_count\": post.get(\"reposts\", {}).get(\"count\", 0),\n",
    "        \"text\": post[\"text\"] if post[\"text\"] else None,\n",
    "    })\n",
    "\n",
    "print(len(data))\n",
    "pp(data[7])"
   ]
  },
  {
   "cell_type": "code",
   "execution_count": 44,
   "metadata": {},
   "outputs": [
    {
     "data": {
      "application/vnd.microsoft.datawrangler.viewer.v0+json": {
       "columns": [
        {
         "name": "index",
         "rawType": "int64",
         "type": "integer"
        },
        {
         "name": "inner_type",
         "rawType": "object",
         "type": "string"
        },
        {
         "name": "comments_count",
         "rawType": "int64",
         "type": "integer"
        },
        {
         "name": "marked_as_ads",
         "rawType": "int64",
         "type": "integer"
        },
        {
         "name": "type",
         "rawType": "object",
         "type": "string"
        },
        {
         "name": "date",
         "rawType": "object",
         "type": "string"
        },
        {
         "name": "from_id",
         "rawType": "int64",
         "type": "integer"
        },
        {
         "name": "id",
         "rawType": "int64",
         "type": "integer"
        },
        {
         "name": "likes_count",
         "rawType": "int64",
         "type": "integer"
        },
        {
         "name": "reaction_set_id",
         "rawType": "object",
         "type": "string"
        },
        {
         "name": "reactions_count",
         "rawType": "int64",
         "type": "integer"
        },
        {
         "name": "owner_id",
         "rawType": "int64",
         "type": "integer"
        },
        {
         "name": "post_source_type",
         "rawType": "object",
         "type": "string"
        },
        {
         "name": "post_type",
         "rawType": "object",
         "type": "string"
        },
        {
         "name": "reposts_count",
         "rawType": "int64",
         "type": "integer"
        },
        {
         "name": "text",
         "rawType": "object",
         "type": "unknown"
        }
       ],
       "conversionMethod": "pd.DataFrame",
       "ref": "5befc947-50fd-45b1-bf5e-9a38bfc407fc",
       "rows": [
        [
         "0",
         "wall_wallpost",
         "89",
         "0",
         "post",
         "2015-09-10T19:36:38",
         "-51059456",
         "33771",
         "1184",
         "reactions",
         "1184",
         "-51059456",
         "vk",
         "post",
         "132",
         null
        ],
        [
         "1",
         "wall_wallpost",
         "201",
         "0",
         "post",
         "2022-03-14T21:38:21",
         "-51059456",
         "38626",
         "85",
         "reactions",
         "85",
         "-51059456",
         "api",
         "post",
         "5",
         "Стена группы временно ограничена. Пока можно писать под этой записью."
        ],
        [
         "2",
         "wall_wallpost",
         "1",
         "0",
         "post",
         "2022-03-13T21:28:36",
         "710027217",
         "38622",
         "38",
         "reactions",
         "38",
         "-51059456",
         "api",
         "post",
         "6",
         "Всем привет. Мне 26 лет , я только что вышел из отношений где узнал, что меня обманывали, и мне нужна помощь, потому что я слишком не ожидал этого, чтобы справиться. Мне нужен друг который понимает, что такое быть на грани и его/ее это не пугает. Кто понимает, что спорт, работа и тд это все херня и не помогает. Кто хочет вылезти и кому просто нужен близкий человек, которому можно довериться. Давай доверимся друг другу и поможем. Возраст /пол не важен. Если вы старше, уверен, что смогу поддержать беседу. Общаюсь в тг, rebelbadperson"
        ],
        [
         "3",
         "wall_wallpost",
         "0",
         "0",
         "post",
         "2022-03-13T15:05:35",
         "633474643",
         "38621",
         "16",
         "reactions",
         "16",
         "-51059456",
         "vk",
         "post",
         "9",
         "Помогу матери одиночке с ребенком до 8 лет, попавшей в трудную ситуацию. \nПриглашаю жить к себе в деревню в новый дом. \nПомогу с ребенком, приму ребенка как родного. Рассмотрю любые варианты, пишите свою проблему не стесняйтесь, обсудим. \nМне 28 лет, живу один, русский, без вредных привычек. \nЗа лайками и комментариями не слежу, пишите личное сообщение."
        ],
        [
         "4",
         "wall_wallpost",
         "0",
         "0",
         "post",
         "2022-03-09T20:28:24",
         "363112910",
         "38605",
         "109",
         "reactions",
         "109",
         "-51059456",
         "vk",
         "post",
         "13",
         null
        ]
       ],
       "shape": {
        "columns": 15,
        "rows": 5
       }
      },
      "text/html": [
       "<div>\n",
       "<style scoped>\n",
       "    .dataframe tbody tr th:only-of-type {\n",
       "        vertical-align: middle;\n",
       "    }\n",
       "\n",
       "    .dataframe tbody tr th {\n",
       "        vertical-align: top;\n",
       "    }\n",
       "\n",
       "    .dataframe thead th {\n",
       "        text-align: right;\n",
       "    }\n",
       "</style>\n",
       "<table border=\"1\" class=\"dataframe\">\n",
       "  <thead>\n",
       "    <tr style=\"text-align: right;\">\n",
       "      <th></th>\n",
       "      <th>inner_type</th>\n",
       "      <th>comments_count</th>\n",
       "      <th>marked_as_ads</th>\n",
       "      <th>type</th>\n",
       "      <th>date</th>\n",
       "      <th>from_id</th>\n",
       "      <th>id</th>\n",
       "      <th>likes_count</th>\n",
       "      <th>reaction_set_id</th>\n",
       "      <th>reactions_count</th>\n",
       "      <th>owner_id</th>\n",
       "      <th>post_source_type</th>\n",
       "      <th>post_type</th>\n",
       "      <th>reposts_count</th>\n",
       "      <th>text</th>\n",
       "    </tr>\n",
       "  </thead>\n",
       "  <tbody>\n",
       "    <tr>\n",
       "      <th>0</th>\n",
       "      <td>wall_wallpost</td>\n",
       "      <td>89</td>\n",
       "      <td>0</td>\n",
       "      <td>post</td>\n",
       "      <td>2015-09-10T19:36:38</td>\n",
       "      <td>-51059456</td>\n",
       "      <td>33771</td>\n",
       "      <td>1184</td>\n",
       "      <td>reactions</td>\n",
       "      <td>1184</td>\n",
       "      <td>-51059456</td>\n",
       "      <td>vk</td>\n",
       "      <td>post</td>\n",
       "      <td>132</td>\n",
       "      <td>None</td>\n",
       "    </tr>\n",
       "    <tr>\n",
       "      <th>1</th>\n",
       "      <td>wall_wallpost</td>\n",
       "      <td>201</td>\n",
       "      <td>0</td>\n",
       "      <td>post</td>\n",
       "      <td>2022-03-14T21:38:21</td>\n",
       "      <td>-51059456</td>\n",
       "      <td>38626</td>\n",
       "      <td>85</td>\n",
       "      <td>reactions</td>\n",
       "      <td>85</td>\n",
       "      <td>-51059456</td>\n",
       "      <td>api</td>\n",
       "      <td>post</td>\n",
       "      <td>5</td>\n",
       "      <td>Стена группы временно ограничена. Пока можно п...</td>\n",
       "    </tr>\n",
       "    <tr>\n",
       "      <th>2</th>\n",
       "      <td>wall_wallpost</td>\n",
       "      <td>1</td>\n",
       "      <td>0</td>\n",
       "      <td>post</td>\n",
       "      <td>2022-03-13T21:28:36</td>\n",
       "      <td>710027217</td>\n",
       "      <td>38622</td>\n",
       "      <td>38</td>\n",
       "      <td>reactions</td>\n",
       "      <td>38</td>\n",
       "      <td>-51059456</td>\n",
       "      <td>api</td>\n",
       "      <td>post</td>\n",
       "      <td>6</td>\n",
       "      <td>Всем привет. Мне 26 лет , я только что вышел и...</td>\n",
       "    </tr>\n",
       "    <tr>\n",
       "      <th>3</th>\n",
       "      <td>wall_wallpost</td>\n",
       "      <td>0</td>\n",
       "      <td>0</td>\n",
       "      <td>post</td>\n",
       "      <td>2022-03-13T15:05:35</td>\n",
       "      <td>633474643</td>\n",
       "      <td>38621</td>\n",
       "      <td>16</td>\n",
       "      <td>reactions</td>\n",
       "      <td>16</td>\n",
       "      <td>-51059456</td>\n",
       "      <td>vk</td>\n",
       "      <td>post</td>\n",
       "      <td>9</td>\n",
       "      <td>Помогу матери одиночке с ребенком до 8 лет, по...</td>\n",
       "    </tr>\n",
       "    <tr>\n",
       "      <th>4</th>\n",
       "      <td>wall_wallpost</td>\n",
       "      <td>0</td>\n",
       "      <td>0</td>\n",
       "      <td>post</td>\n",
       "      <td>2022-03-09T20:28:24</td>\n",
       "      <td>363112910</td>\n",
       "      <td>38605</td>\n",
       "      <td>109</td>\n",
       "      <td>reactions</td>\n",
       "      <td>109</td>\n",
       "      <td>-51059456</td>\n",
       "      <td>vk</td>\n",
       "      <td>post</td>\n",
       "      <td>13</td>\n",
       "      <td>None</td>\n",
       "    </tr>\n",
       "  </tbody>\n",
       "</table>\n",
       "</div>"
      ],
      "text/plain": [
       "      inner_type  comments_count  marked_as_ads  type                 date  \\\n",
       "0  wall_wallpost              89              0  post  2015-09-10T19:36:38   \n",
       "1  wall_wallpost             201              0  post  2022-03-14T21:38:21   \n",
       "2  wall_wallpost               1              0  post  2022-03-13T21:28:36   \n",
       "3  wall_wallpost               0              0  post  2022-03-13T15:05:35   \n",
       "4  wall_wallpost               0              0  post  2022-03-09T20:28:24   \n",
       "\n",
       "     from_id     id  likes_count reaction_set_id  reactions_count  owner_id  \\\n",
       "0  -51059456  33771         1184       reactions             1184 -51059456   \n",
       "1  -51059456  38626           85       reactions               85 -51059456   \n",
       "2  710027217  38622           38       reactions               38 -51059456   \n",
       "3  633474643  38621           16       reactions               16 -51059456   \n",
       "4  363112910  38605          109       reactions              109 -51059456   \n",
       "\n",
       "  post_source_type post_type  reposts_count  \\\n",
       "0               vk      post            132   \n",
       "1              api      post              5   \n",
       "2              api      post              6   \n",
       "3               vk      post              9   \n",
       "4               vk      post             13   \n",
       "\n",
       "                                                text  \n",
       "0                                               None  \n",
       "1  Стена группы временно ограничена. Пока можно п...  \n",
       "2  Всем привет. Мне 26 лет , я только что вышел и...  \n",
       "3  Помогу матери одиночке с ребенком до 8 лет, по...  \n",
       "4                                               None  "
      ]
     },
     "execution_count": 44,
     "metadata": {},
     "output_type": "execute_result"
    }
   ],
   "source": [
    "df = pd.DataFrame(data)\n",
    "df.head()"
   ]
  },
  {
   "cell_type": "code",
   "execution_count": 45,
   "metadata": {},
   "outputs": [
    {
     "name": "stdout",
     "output_type": "stream",
     "text": [
      "<class 'pandas.core.frame.DataFrame'>\n",
      "RangeIndex: 31535 entries, 0 to 31534\n",
      "Data columns (total 15 columns):\n",
      " #   Column            Non-Null Count  Dtype \n",
      "---  ------            --------------  ----- \n",
      " 0   inner_type        31535 non-null  object\n",
      " 1   comments_count    31535 non-null  int64 \n",
      " 2   marked_as_ads     31535 non-null  int64 \n",
      " 3   type              31535 non-null  object\n",
      " 4   date              31535 non-null  object\n",
      " 5   from_id           31535 non-null  int64 \n",
      " 6   id                31535 non-null  int64 \n",
      " 7   likes_count       31535 non-null  int64 \n",
      " 8   reaction_set_id   31535 non-null  object\n",
      " 9   reactions_count   31535 non-null  int64 \n",
      " 10  owner_id          31535 non-null  int64 \n",
      " 11  post_source_type  31535 non-null  object\n",
      " 12  post_type         31535 non-null  object\n",
      " 13  reposts_count     31535 non-null  int64 \n",
      " 14  text              28754 non-null  object\n",
      "dtypes: int64(8), object(7)\n",
      "memory usage: 3.6+ MB\n"
     ]
    }
   ],
   "source": [
    "df.info()"
   ]
  },
  {
   "cell_type": "code",
   "execution_count": 46,
   "metadata": {},
   "outputs": [],
   "source": [
    "df.to_csv(\"../data/csv/posts.csv\", index=False)"
   ]
  }
 ],
 "metadata": {
  "kernelspec": {
   "display_name": ".venv (3.13.1)",
   "language": "python",
   "name": "python3"
  },
  "language_info": {
   "codemirror_mode": {
    "name": "ipython",
    "version": 3
   },
   "file_extension": ".py",
   "mimetype": "text/x-python",
   "name": "python",
   "nbconvert_exporter": "python",
   "pygments_lexer": "ipython3",
   "version": "3.13.1"
  }
 },
 "nbformat": 4,
 "nbformat_minor": 2
}
